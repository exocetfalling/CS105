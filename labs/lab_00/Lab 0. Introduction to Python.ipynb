{
 "cells": [
  {
   "cell_type": "markdown",
   "metadata": {},
   "source": [
    "<div class=\"alert alert-block alert-info\">\n",
    "Singapore Management University<br>\n",
    "CS105 Statistical Thinking for Data Science\n",
    "</div>"
   ]
  },
  {
   "cell_type": "markdown",
   "metadata": {
    "colab_type": "text",
    "id": "zYBbWb-0Kc6H"
   },
   "source": [
    "# Lab 0: Introduction to Python"
   ]
  },
  {
   "cell_type": "markdown",
   "metadata": {},
   "source": [
    ">#### Table of Contents\n",
    ">\n",
    ">- Python Basics\n",
    ">    - Mathematical operations\n",
    ">    - Logical operations\n",
    ">    - Control flow\n",
    ">    - List\n",
    ">    - Dictionaries\n",
    ">    - Function\n",
    ">- The 'math' and 'random' modules\n",
    ">"
   ]
  },
  {
   "cell_type": "markdown",
   "metadata": {
    "colab_type": "text",
    "id": "Y0_wZ6dEKc6I"
   },
   "source": [
    "## 1 Python Basics"
   ]
  },
  {
   "cell_type": "markdown",
   "metadata": {},
   "source": [
    "Python has been gaining popularity in recent years due to its expressiveness and the ease of learning.  Moreover, the ecosytem around Python has grown rapidly.  Many open-sourced libaries have been developed and matured over the years.  This is especially true if one is interested in doing data science, machine learning and deep learning.  Python-based packages like NumPy, pandas, Matplotlib, scikit-learn and TensorFlow are becoming the de facto tools embraced by the data science community.  In these labs, you will gradually learn these tools to complement the theory you learn in class."
   ]
  },
  {
   "cell_type": "markdown",
   "metadata": {},
   "source": [
    "Having a background in C programming will help you pick up Python quickly.  Here we would like to highlight a few differences <br>\n",
    "- **Indentation** matters in Python.  In C you will structure your code using `{ }` and with `;` but spaces don't matter.  In Python, spaces are used to dictate blocks of codes.  Wrong indentation, and your codes won't run.\n",
    "- C is a compiled language while Python is **interpreted**.  This allows you to code, run, and iterate the process quickly to get results.\n",
    "- C is statically typed, while Python is **dynamically typed**.  In C, you have to declare the variable type before you can assign a value to it.  In Python you simply assign a value to a variable and the type is defined there and then.  You can re-assign the value, hence changing the type at the same time."
   ]
  },
  {
   "cell_type": "markdown",
   "metadata": {},
   "source": [
    "We have two quick examples to illustrate the points above, before we dive into the details of Python. <br>\n",
    "\n",
    "Here you see your codes won't run if the indentation is wrong."
   ]
  },
  {
   "cell_type": "code",
   "execution_count": 1,
   "metadata": {},
   "outputs": [
    {
     "ename": "IndentationError",
     "evalue": "unexpected indent (3267430682.py, line 2)",
     "output_type": "error",
     "traceback": [
      "\u001b[1;36m  File \u001b[1;32m\"C:\\Users\\yfang\\AppData\\Local\\Temp\\ipykernel_20212\\3267430682.py\"\u001b[1;36m, line \u001b[1;32m2\u001b[0m\n\u001b[1;33m    print(\"hello world\") # extra leading space (anything after # is comment)\u001b[0m\n\u001b[1;37m    ^\u001b[0m\n\u001b[1;31mIndentationError\u001b[0m\u001b[1;31m:\u001b[0m unexpected indent\n"
     ]
    }
   ],
   "source": [
    "print(\"hello python\")\n",
    " print(\"hello world\") # extra leading space (anything after # is comment)"
   ]
  },
  {
   "cell_type": "markdown",
   "metadata": {},
   "source": [
    "And here is  an example which shows that type of `a` can be changed dynamically."
   ]
  },
  {
   "cell_type": "code",
   "execution_count": 3,
   "metadata": {},
   "outputs": [
    {
     "name": "stdout",
     "output_type": "stream",
     "text": [
      "a is <class 'int'>\n",
      "a is now <class 'str'>\n"
     ]
    }
   ],
   "source": [
    "a = 100\n",
    "print(\"a is\", type(a))\n",
    "a = \"one hundred\"\n",
    "print(\"a is now\", type(a))"
   ]
  },
  {
   "cell_type": "markdown",
   "metadata": {},
   "source": [
    "Here is the official Python 3.10 documentation reference: https://docs.python.org/3.10/"
   ]
  },
  {
   "cell_type": "markdown",
   "metadata": {
    "colab_type": "text",
    "id": "rtNFsRtuKc6J"
   },
   "source": [
    "### 1.1 Mathematical operations"
   ]
  },
  {
   "cell_type": "markdown",
   "metadata": {},
   "source": [
    "Let's now dive into Python proper.  Thanks to being an interpreted language, you can run a few lines of code and see the results immediately.  Often you can use it like a calculator.  In Python, mathematical operations are straight-forward.  You can do addition, subtraction, multiplication in a way similar to the C language."
   ]
  },
  {
   "cell_type": "code",
   "execution_count": 4,
   "metadata": {
    "colab": {},
    "colab_type": "code",
    "id": "ixuiw8OdKc6J"
   },
   "outputs": [
    {
     "data": {
      "text/plain": [
       "(17, 5)"
      ]
     },
     "execution_count": 4,
     "metadata": {},
     "output_type": "execute_result"
    }
   ],
   "source": [
    "a = 17\n",
    "b = 5\n",
    "a, b"
   ]
  },
  {
   "cell_type": "code",
   "execution_count": 5,
   "metadata": {
    "colab": {},
    "colab_type": "code",
    "id": "D2hMsY6BKc6M"
   },
   "outputs": [
    {
     "data": {
      "text/plain": [
       "22"
      ]
     },
     "execution_count": 5,
     "metadata": {},
     "output_type": "execute_result"
    }
   ],
   "source": [
    "a + b"
   ]
  },
  {
   "cell_type": "code",
   "execution_count": 6,
   "metadata": {
    "colab": {},
    "colab_type": "code",
    "id": "ZmfGOM3aKc6O"
   },
   "outputs": [
    {
     "data": {
      "text/plain": [
       "12"
      ]
     },
     "execution_count": 6,
     "metadata": {},
     "output_type": "execute_result"
    }
   ],
   "source": [
    "a - b"
   ]
  },
  {
   "cell_type": "code",
   "execution_count": 7,
   "metadata": {
    "colab": {},
    "colab_type": "code",
    "id": "MLpGxP4XKc6Q"
   },
   "outputs": [
    {
     "data": {
      "text/plain": [
       "85"
      ]
     },
     "execution_count": 7,
     "metadata": {},
     "output_type": "execute_result"
    }
   ],
   "source": [
    "a * b"
   ]
  },
  {
   "cell_type": "markdown",
   "metadata": {},
   "source": [
    "For division, you use single forward slash `/` for floating point division."
   ]
  },
  {
   "cell_type": "code",
   "execution_count": 8,
   "metadata": {
    "colab": {},
    "colab_type": "code",
    "id": "545L9TreKc6S"
   },
   "outputs": [
    {
     "data": {
      "text/plain": [
       "3.4"
      ]
     },
     "execution_count": 8,
     "metadata": {},
     "output_type": "execute_result"
    }
   ],
   "source": [
    "a / b"
   ]
  },
  {
   "cell_type": "markdown",
   "metadata": {},
   "source": [
    "For integral division, you use double forward slash `//` for integer division.  This essentially divides `a` by `b` and gives you the integer part of the division."
   ]
  },
  {
   "cell_type": "code",
   "execution_count": 9,
   "metadata": {
    "colab": {},
    "colab_type": "code",
    "id": "e0GbnQoYKc6U"
   },
   "outputs": [
    {
     "data": {
      "text/plain": [
       "3"
      ]
     },
     "execution_count": 9,
     "metadata": {},
     "output_type": "execute_result"
    }
   ],
   "source": [
    "a // b"
   ]
  },
  {
   "cell_type": "markdown",
   "metadata": {},
   "source": [
    "For modulus operation, you use `%`.  Here you will get the remainder after dividing `a` by `b`."
   ]
  },
  {
   "cell_type": "code",
   "execution_count": 10,
   "metadata": {
    "colab": {},
    "colab_type": "code",
    "id": "2Gg6Y5MiKc6X"
   },
   "outputs": [
    {
     "data": {
      "text/plain": [
       "2"
      ]
     },
     "execution_count": 10,
     "metadata": {},
     "output_type": "execute_result"
    }
   ],
   "source": [
    "a % b"
   ]
  },
  {
   "cell_type": "markdown",
   "metadata": {
    "colab_type": "text",
    "id": "qxVfsJFMKc6Z"
   },
   "source": [
    "For exponentiation, note that in Python you use `**` and **not** `^`.  In Python, the operator `^` is reserved for XOR bitwise operation."
   ]
  },
  {
   "cell_type": "code",
   "execution_count": 11,
   "metadata": {
    "colab": {},
    "colab_type": "code",
    "id": "UoautaM1Kc6a"
   },
   "outputs": [
    {
     "data": {
      "text/plain": [
       "1419857"
      ]
     },
     "execution_count": 11,
     "metadata": {},
     "output_type": "execute_result"
    }
   ],
   "source": [
    "a ** b "
   ]
  },
  {
   "cell_type": "markdown",
   "metadata": {
    "colab_type": "text",
    "id": "CrBtHA-8Kc6c"
   },
   "source": [
    "### 1.2 Logical operations"
   ]
  },
  {
   "cell_type": "markdown",
   "metadata": {},
   "source": [
    "You can also assign boolean values to your variables.  Use the keywords `True`, `False`, but please note the capitalization, as Python is case senstive."
   ]
  },
  {
   "cell_type": "code",
   "execution_count": 12,
   "metadata": {
    "colab": {},
    "colab_type": "code",
    "id": "8wV48IuQKc6d"
   },
   "outputs": [
    {
     "data": {
      "text/plain": [
       "(True, False, True)"
      ]
     },
     "execution_count": 12,
     "metadata": {},
     "output_type": "execute_result"
    }
   ],
   "source": [
    "a = True\n",
    "b = False\n",
    "c = not b\n",
    "a, b, c"
   ]
  },
  {
   "cell_type": "markdown",
   "metadata": {},
   "source": [
    "Here is a summary of logical operators in Python with some examples."
   ]
  },
  {
   "cell_type": "markdown",
   "metadata": {},
   "source": [
    "| Operation | Keyword |\n",
    "| --- | --- |\n",
    "| equal | == |\n",
    "| not-equal | != |\n",
    "| and | and |\n",
    "| or | or |"
   ]
  },
  {
   "cell_type": "code",
   "execution_count": 13,
   "metadata": {
    "colab": {},
    "colab_type": "code",
    "id": "s5PmUWhJKc6g"
   },
   "outputs": [
    {
     "data": {
      "text/plain": [
       "False"
      ]
     },
     "execution_count": 13,
     "metadata": {},
     "output_type": "execute_result"
    }
   ],
   "source": [
    "a, b, c = True, True, False\n",
    "(a == b) and (b == c)"
   ]
  },
  {
   "cell_type": "code",
   "execution_count": 14,
   "metadata": {
    "colab": {},
    "colab_type": "code",
    "id": "wJlyx2siKc6i"
   },
   "outputs": [
    {
     "data": {
      "text/plain": [
       "True"
      ]
     },
     "execution_count": 14,
     "metadata": {},
     "output_type": "execute_result"
    }
   ],
   "source": [
    "(a != b) or (b != c)"
   ]
  },
  {
   "cell_type": "markdown",
   "metadata": {
    "colab_type": "text",
    "id": "hui1fSk4Kc7t"
   },
   "source": [
    "### 1.3 Control flow"
   ]
  },
  {
   "cell_type": "markdown",
   "metadata": {},
   "source": [
    "`if-else` constructs in Python are intuitive.  The syntax to watch out are the following:\n",
    "- the colon `:` at the end of the condition statement\n",
    "- indentation - this is super critical.  Indentation in Python is used to segregate blocks of codes"
   ]
  },
  {
   "cell_type": "code",
   "execution_count": 15,
   "metadata": {
    "colab": {},
    "colab_type": "code",
    "id": "kJSTv2OzKc7v"
   },
   "outputs": [
    {
     "name": "stdout",
     "output_type": "stream",
     "text": [
      "positive\n"
     ]
    }
   ],
   "source": [
    "x = 10\n",
    "if x > 0:\n",
    "    print(\"positive\")\n",
    "elif x < 0:\n",
    "    print(\"negative\")\n",
    "else:\n",
    "    print(\"zero\")"
   ]
  },
  {
   "cell_type": "markdown",
   "metadata": {},
   "source": [
    "For a simple `if` condition you can also succintly write it into a one-liner."
   ]
  },
  {
   "cell_type": "code",
   "execution_count": 16,
   "metadata": {
    "colab": {},
    "colab_type": "code",
    "id": "0aasrqN3Kc71"
   },
   "outputs": [
    {
     "data": {
      "text/plain": [
       "False"
      ]
     },
     "execution_count": 16,
     "metadata": {},
     "output_type": "execute_result"
    }
   ],
   "source": [
    "x = 17\n",
    "even = True if x % 2 == 0 else False\n",
    "even"
   ]
  },
  {
   "cell_type": "markdown",
   "metadata": {
    "colab_type": "text",
    "id": "g9t0BE9aKc73"
   },
   "source": [
    "Python provides a `range` object which is a compact representation of contiguous range of numbers.  Say if you want to store numbers from the first $5$ whole numbers.  You can define it like this."
   ]
  },
  {
   "cell_type": "code",
   "execution_count": 17,
   "metadata": {},
   "outputs": [],
   "source": [
    "rng = range(5)"
   ]
  },
  {
   "cell_type": "markdown",
   "metadata": {},
   "source": [
    "Let's unwrap this to each what this range represents"
   ]
  },
  {
   "cell_type": "code",
   "execution_count": 18,
   "metadata": {},
   "outputs": [
    {
     "name": "stdout",
     "output_type": "stream",
     "text": [
      "0\n",
      "1\n",
      "2\n",
      "3\n",
      "4\n"
     ]
    }
   ],
   "source": [
    "for x in range(5):\n",
    "    print(x)"
   ]
  },
  {
   "cell_type": "markdown",
   "metadata": {},
   "source": [
    "We can also specify how to skip the elements.  For example if we want to keep one, skip three, keep one,skip three, etc... we can do the following.  You need to pass the `start` number, `end` number, `skip` elements, but noted that `end` is excluded - in the example below, 10 is excluded."
   ]
  },
  {
   "cell_type": "code",
   "execution_count": 19,
   "metadata": {
    "colab": {},
    "colab_type": "code",
    "id": "qP8tqXGEKc74"
   },
   "outputs": [
    {
     "name": "stdout",
     "output_type": "stream",
     "text": [
      "1\n",
      "4\n",
      "7\n"
     ]
    }
   ],
   "source": [
    "for i in range(1, 10, 3):\n",
    "    print(i)"
   ]
  },
  {
   "cell_type": "markdown",
   "metadata": {},
   "source": [
    "`while` construct should look familiar as well."
   ]
  },
  {
   "cell_type": "code",
   "execution_count": 20,
   "metadata": {
    "colab": {},
    "colab_type": "code",
    "id": "SZRhr4VwKc76"
   },
   "outputs": [
    {
     "data": {
      "text/plain": [
       "10"
      ]
     },
     "execution_count": 20,
     "metadata": {},
     "output_type": "execute_result"
    }
   ],
   "source": [
    "c = 0\n",
    "n = 1024\n",
    "while n > 1:\n",
    "    n /= 2\n",
    "    c += 1\n",
    "c"
   ]
  },
  {
   "cell_type": "markdown",
   "metadata": {
    "colab_type": "text",
    "id": "83qF104jKc7M"
   },
   "source": [
    "### 1.4 List"
   ]
  },
  {
   "cell_type": "markdown",
   "metadata": {
    "colab_type": "text",
    "id": "dZRoKuFcKc7N"
   },
   "source": [
    "One of the most fundamental data structures in Python is  the `list`.  It is similar to array in C programming, in the sense that it allows you to hold a collection of variables and allows you to retrieve a particuar value based on its index quickly.  In C programming, you have to first declare the data type and specify the size, so that compiler can allocate sufficient memory.  A Python `list` however can hold multiple data types.  Moreover, it is dynamically sized which means you can flexibly add or remove elements."
   ]
  },
  {
   "cell_type": "markdown",
   "metadata": {
    "colab_type": "text",
    "id": "3se6tpB0Kc7O"
   },
   "source": [
    "To create a list, use square brackets `[` `]`, separate the elements with comma `,` and assign it to a variable.  Often you might not know yet what elements are available.  In that case, you can declare an empty list first."
   ]
  },
  {
   "cell_type": "code",
   "execution_count": 21,
   "metadata": {
    "colab": {},
    "colab_type": "code",
    "id": "nhzAtDn4Kc7P"
   },
   "outputs": [
    {
     "data": {
      "text/plain": [
       "[1, 2, 3, 4]"
      ]
     },
     "execution_count": 21,
     "metadata": {},
     "output_type": "execute_result"
    }
   ],
   "source": [
    "a = [1, 2, 3, 4]\n",
    "a"
   ]
  },
  {
   "cell_type": "code",
   "execution_count": 22,
   "metadata": {},
   "outputs": [],
   "source": [
    "b = []  ## empty list"
   ]
  },
  {
   "cell_type": "markdown",
   "metadata": {
    "colab_type": "text",
    "id": "5kRLEE8sKc7R"
   },
   "source": [
    "If you have two lists and you want to 'combine' them into one single list, you can use also the `+` operator.  This is similar to the way `+` is used to concatenate two strings.  Note that the order of the variables are maintained"
   ]
  },
  {
   "cell_type": "code",
   "execution_count": 23,
   "metadata": {
    "colab": {},
    "colab_type": "code",
    "id": "zHNp27-nKc7S"
   },
   "outputs": [
    {
     "name": "stdout",
     "output_type": "stream",
     "text": [
      "[1, 3, 5, 7, 2, 4, 6]\n"
     ]
    }
   ],
   "source": [
    "a = [1, 3, 5, 7]\n",
    "b = [2, 4, 6]\n",
    "c = a + b\n",
    "print(c)"
   ]
  },
  {
   "cell_type": "markdown",
   "metadata": {
    "colab_type": "text",
    "id": "AnFt8F9XKc7T"
   },
   "source": [
    "You can also just `append` an element to a list.  What this does is to put a new element at the back of the list.  This is useful when you are dynamically growing a list"
   ]
  },
  {
   "cell_type": "code",
   "execution_count": 24,
   "metadata": {
    "colab": {},
    "colab_type": "code",
    "id": "Z6zksxTzKc7W"
   },
   "outputs": [
    {
     "data": {
      "text/plain": [
       "[1, 3, 5, 7, 2, 4, 6, 24]"
      ]
     },
     "execution_count": 24,
     "metadata": {},
     "output_type": "execute_result"
    }
   ],
   "source": [
    "c.append(24)\n",
    "c"
   ]
  },
  {
   "cell_type": "markdown",
   "metadata": {
    "colab_type": "text",
    "id": "_3u_aX2EKc7c"
   },
   "source": [
    "Many common and useful methods in Python can be applied across different data objects.  For example, you could also use `len` to determine length of your list, i.e. the number of elements"
   ]
  },
  {
   "cell_type": "code",
   "execution_count": 25,
   "metadata": {
    "colab": {},
    "colab_type": "code",
    "id": "m_zybAvGKc7d"
   },
   "outputs": [
    {
     "data": {
      "text/plain": [
       "4"
      ]
     },
     "execution_count": 25,
     "metadata": {},
     "output_type": "execute_result"
    }
   ],
   "source": [
    "n = len(a)\n",
    "n"
   ]
  },
  {
   "cell_type": "markdown",
   "metadata": {
    "colab_type": "text",
    "id": "Qx8gaKNHKc7g"
   },
   "source": [
    "Membership checking is also provided by Python.  You can use keyword `in` to check if an element is found in a given list.  A boolean value will be returned in this case"
   ]
  },
  {
   "cell_type": "code",
   "execution_count": 26,
   "metadata": {
    "colab": {},
    "colab_type": "code",
    "id": "sZ_mAIzXKc7h"
   },
   "outputs": [
    {
     "data": {
      "text/plain": [
       "True"
      ]
     },
     "execution_count": 26,
     "metadata": {},
     "output_type": "execute_result"
    }
   ],
   "source": [
    "A = [2, 4, 6, 8]\n",
    "a = 2\n",
    "a_in_A = a in A\n",
    "a_in_A"
   ]
  },
  {
   "cell_type": "markdown",
   "metadata": {
    "colab_type": "text",
    "id": "sZecrMQlKc7i"
   },
   "source": [
    "Suppose we have a list of numbers, and we want to square each number and put them into a new list.  One way to do this is as follow, where we run by each element, square it and append it to the new list"
   ]
  },
  {
   "cell_type": "code",
   "execution_count": 27,
   "metadata": {},
   "outputs": [
    {
     "name": "stdout",
     "output_type": "stream",
     "text": [
      "[1, 4, 9, 16, 25]\n"
     ]
    }
   ],
   "source": [
    "x = [1, 2, 3, 4, 5]\n",
    "y = []\n",
    "for i in range(len(x)):\n",
    "    y.append(x[i]**2)\n",
    "print(y)"
   ]
  },
  {
   "cell_type": "markdown",
   "metadata": {},
   "source": [
    "The above approach is similar to how one would do it in C. List comprehension however is a more 'pythonic' way of achieving the same effect, allowing one to elegantly express a new list based on old list.  With list comprehension, you can almost read the line as \"square x for each of the x found in the list\""
   ]
  },
  {
   "cell_type": "code",
   "execution_count": 28,
   "metadata": {
    "colab": {},
    "colab_type": "code",
    "id": "BsNWGf7xKc7j"
   },
   "outputs": [
    {
     "data": {
      "text/plain": [
       "[1, 4, 9, 16, 25]"
      ]
     },
     "execution_count": 28,
     "metadata": {},
     "output_type": "execute_result"
    }
   ],
   "source": [
    "x_list = [1, 2, 3, 4, 5]\n",
    "y_list = [x**2 for x in x_list]\n",
    "y_list"
   ]
  },
  {
   "cell_type": "markdown",
   "metadata": {},
   "source": [
    "You can further impose conditions to act as filters as well.  If you want to square only the odd numbers, you can express it as follow: \"square x if x gives remainder 1 when divided by 2\""
   ]
  },
  {
   "cell_type": "code",
   "execution_count": 29,
   "metadata": {
    "colab": {},
    "colab_type": "code",
    "id": "m3Co4VI0Kc7k"
   },
   "outputs": [
    {
     "data": {
      "text/plain": [
       "[1, 9, 25]"
      ]
     },
     "execution_count": 29,
     "metadata": {},
     "output_type": "execute_result"
    }
   ],
   "source": [
    "x_list = [1, 2, 3, 4, 5]\n",
    "y = [x**2 for x in x_list if x%2==1]\n",
    "y"
   ]
  },
  {
   "cell_type": "markdown",
   "metadata": {
    "colab_type": "text",
    "id": "aYZt9mLwKc7m"
   },
   "source": [
    "### 1.5 Dictionaries"
   ]
  },
  {
   "cell_type": "markdown",
   "metadata": {
    "colab_type": "text",
    "id": "2xSi-6pBKc7m"
   },
   "source": [
    "Consider a situation where you want to store the grades of CS105 for students Andy, Becky, Charlie who obtain A, B+, A-.  How can we go about doing that?  One way to do this might be to create two lists - one to store the names of students, one to store the results of the students.  To do that we need to be careful and ensure that the indices from both list refer to the same students"
   ]
  },
  {
   "cell_type": "code",
   "execution_count": 30,
   "metadata": {},
   "outputs": [],
   "source": [
    "students = [\"Andy\", \"Becky\", \"Charlie\"]\n",
    "grades = [\"A\", \"B+\", \"A-\"]"
   ]
  },
  {
   "cell_type": "markdown",
   "metadata": {},
   "source": [
    "Above method is perfectly valid, but it is inconvenient if you want to query for results for Becky.  To do that you first need to find out the index of Becky in the `students` list and use that to retrieve from the `grades`"
   ]
  },
  {
   "cell_type": "markdown",
   "metadata": {},
   "source": [
    "A dictionary on the other hand allows you to create *key-value* pairs.  Using the example above, a dictionary lets you map the students names (the key) to his or her grades (the value).  After the mapping one can easily query for the value based on the key"
   ]
  },
  {
   "cell_type": "markdown",
   "metadata": {
    "colab_type": "text",
    "id": "epBsAv6YKc7m"
   },
   "source": [
    "We create a dictionary using `{` `}`, and to represent each item the syntax we use is *key`:`value*"
   ]
  },
  {
   "cell_type": "code",
   "execution_count": 31,
   "metadata": {
    "colab": {},
    "colab_type": "code",
    "id": "veyjkYI3Kc7n"
   },
   "outputs": [
    {
     "data": {
      "text/plain": [
       "{'Andy': 'A', 'Becky': 'B+', 'Charlie': 'A-'}"
      ]
     },
     "execution_count": 31,
     "metadata": {},
     "output_type": "execute_result"
    }
   ],
   "source": [
    "grade_dict = {\"Andy\" : \"A\", \"Becky\" : \"B+\", \"Charlie\":\"A-\"}\n",
    "grade_dict"
   ]
  },
  {
   "cell_type": "markdown",
   "metadata": {},
   "source": [
    "Once defined, we can retrieve Becky's grade"
   ]
  },
  {
   "cell_type": "code",
   "execution_count": 32,
   "metadata": {
    "colab_type": "text",
    "id": "_fEjhnxxKc7o"
   },
   "outputs": [
    {
     "data": {
      "text/plain": [
       "'B+'"
      ]
     },
     "execution_count": 32,
     "metadata": {},
     "output_type": "execute_result"
    }
   ],
   "source": [
    "grade_dict[\"Becky\"]"
   ]
  },
  {
   "cell_type": "markdown",
   "metadata": {},
   "source": [
    "We can get all the keys as follow.  Note that we are getting a `dict_keys` object, not a list.  Often we need to cast it to list for further processing"
   ]
  },
  {
   "cell_type": "code",
   "execution_count": 33,
   "metadata": {
    "colab": {},
    "colab_type": "code",
    "id": "0A5HcPYzKc7o"
   },
   "outputs": [
    {
     "name": "stdout",
     "output_type": "stream",
     "text": [
      "<class 'dict_keys'>\n"
     ]
    },
    {
     "data": {
      "text/plain": [
       "['Andy', 'Becky', 'Charlie']"
      ]
     },
     "execution_count": 33,
     "metadata": {},
     "output_type": "execute_result"
    }
   ],
   "source": [
    "keys = grade_dict.keys()\n",
    "print(type(keys))\n",
    "list(keys)"
   ]
  },
  {
   "cell_type": "markdown",
   "metadata": {
    "colab_type": "text",
    "id": "lOgmTqiIKc7q"
   },
   "source": [
    "To get the values we can do the following"
   ]
  },
  {
   "cell_type": "code",
   "execution_count": 34,
   "metadata": {
    "colab": {},
    "colab_type": "code",
    "id": "V66DyuF9Kc7q"
   },
   "outputs": [
    {
     "data": {
      "text/plain": [
       "dict_values(['A', 'B+', 'A-'])"
      ]
     },
     "execution_count": 34,
     "metadata": {},
     "output_type": "execute_result"
    }
   ],
   "source": [
    "grade_dict.values()"
   ]
  },
  {
   "cell_type": "markdown",
   "metadata": {
    "colab_type": "text",
    "id": "6V9RzZ66Kc7r"
   },
   "source": [
    "One of the common operations on dictionary is to iterate through each key-value pair, which we can perform using the `.items` method"
   ]
  },
  {
   "cell_type": "code",
   "execution_count": 35,
   "metadata": {
    "colab": {},
    "colab_type": "code",
    "id": "nI5aF54BKc7s"
   },
   "outputs": [
    {
     "name": "stdout",
     "output_type": "stream",
     "text": [
      "Andy : A\n",
      "Becky : B+\n",
      "Charlie : A-\n"
     ]
    }
   ],
   "source": [
    "for key, value in grade_dict.items():\n",
    "    print(f\"{key} : {value}\")"
   ]
  },
  {
   "cell_type": "markdown",
   "metadata": {
    "colab_type": "text",
    "id": "jLnCbok_Kc78"
   },
   "source": [
    "### 1.5 Function"
   ]
  },
  {
   "cell_type": "markdown",
   "metadata": {
    "colab_type": "text",
    "id": "gb9ELmUyKc79"
   },
   "source": [
    "Python functions start with keyword `def`.  Here is a simple function to calculate factorial"
   ]
  },
  {
   "cell_type": "code",
   "execution_count": 36,
   "metadata": {},
   "outputs": [
    {
     "data": {
      "text/plain": [
       "120"
      ]
     },
     "execution_count": 36,
     "metadata": {},
     "output_type": "execute_result"
    }
   ],
   "source": [
    "def fact(n):\n",
    "    fact = 1\n",
    "    for x in range(1,n+1):\n",
    "        fact = fact * x\n",
    "    return fact\n",
    "\n",
    "fact(5)"
   ]
  },
  {
   "cell_type": "markdown",
   "metadata": {},
   "source": [
    "Python functions allow you to return multiple values at once (in fact, the multiple values are stored in an object called *tuple*).  We write a simple function here to provide summary statistics given a list of data points"
   ]
  },
  {
   "cell_type": "code",
   "execution_count": 37,
   "metadata": {},
   "outputs": [
    {
     "data": {
      "text/plain": [
       "(7, 1, 6, 3.8)"
      ]
     },
     "execution_count": 37,
     "metadata": {},
     "output_type": "execute_result"
    }
   ],
   "source": [
    "def summary(data):\n",
    "    high = max(data)\n",
    "    low = min(data)\n",
    "    rng = high - low \n",
    "    avg = sum(data)/len(data)\n",
    "    return high, low, rng, avg\n",
    "    \n",
    "data = [2,5,1,7,4]\n",
    "summary(data)"
   ]
  },
  {
   "cell_type": "markdown",
   "metadata": {},
   "source": [
    "## 2 The 'math' and 'random' modules"
   ]
  },
  {
   "cell_type": "markdown",
   "metadata": {},
   "source": [
    "Python also has a `math` library which is furnished with common functions and constants.  Before invoking the functions you need to first import the library as follow. <br>\n",
    "Reference: https://docs.python.org/3.10/library/math.html"
   ]
  },
  {
   "cell_type": "code",
   "execution_count": 38,
   "metadata": {},
   "outputs": [],
   "source": [
    "import math"
   ]
  },
  {
   "cell_type": "markdown",
   "metadata": {},
   "source": [
    "Here are some common mathematical functions that are supported by `math`.  Do note the way the methods are called"
   ]
  },
  {
   "cell_type": "code",
   "execution_count": 39,
   "metadata": {},
   "outputs": [
    {
     "name": "stdout",
     "output_type": "stream",
     "text": [
      "x = 1.2\n",
      "k = 3.0\n",
      "ke^x: 9.960350768209642\n",
      "ln x: 1.0986122886681098\n"
     ]
    }
   ],
   "source": [
    "x = 1.2\n",
    "k = 3.0\n",
    "print(f\"x = {x}\")\n",
    "print(f\"k = {k}\")\n",
    "print(\"ke^x:\", k * math.exp(x))\n",
    "print(\"ln x:\", math.log(k))"
   ]
  },
  {
   "cell_type": "markdown",
   "metadata": {},
   "source": [
    "Here `log` is defined as the natural logarithm.  In addition, `math` provides several constants, in particular `inf` can be quite useful especially when you need to do initialization."
   ]
  },
  {
   "cell_type": "code",
   "execution_count": 40,
   "metadata": {},
   "outputs": [
    {
     "name": "stdout",
     "output_type": "stream",
     "text": [
      "𝛑 is 3.141592653589793\n",
      "-Infinity is -inf\n"
     ]
    }
   ],
   "source": [
    "print(\"𝛑 is\", math.pi)\n",
    "print(\"-Infinity is\", -math.inf)"
   ]
  },
  {
   "cell_type": "markdown",
   "metadata": {},
   "source": [
    "Another useful module provided by Python is the `random` module, which allows us to generate random numbers.<br>\n",
    "Reference: https://docs.python.org/3.10/library/random.html"
   ]
  },
  {
   "cell_type": "code",
   "execution_count": 41,
   "metadata": {},
   "outputs": [],
   "source": [
    "import random"
   ]
  },
  {
   "cell_type": "markdown",
   "metadata": {},
   "source": [
    "Most commonly used function is the `random.random()` which generates a number between 0 and 1."
   ]
  },
  {
   "cell_type": "code",
   "execution_count": 42,
   "metadata": {},
   "outputs": [
    {
     "data": {
      "text/plain": [
       "0.3872103335242221"
      ]
     },
     "execution_count": 42,
     "metadata": {},
     "output_type": "execute_result"
    }
   ],
   "source": [
    "random.random()"
   ]
  },
  {
   "cell_type": "markdown",
   "metadata": {},
   "source": [
    "You can also generate a random integer, say between 0 and 10 (both inclusive), as follow."
   ]
  },
  {
   "cell_type": "code",
   "execution_count": 43,
   "metadata": {},
   "outputs": [
    {
     "name": "stdout",
     "output_type": "stream",
     "text": [
      "5\n"
     ]
    }
   ],
   "source": [
    "print(random.randint(0, 10))"
   ]
  },
  {
   "cell_type": "markdown",
   "metadata": {},
   "source": [
    "Using `random.choice`, you can also pass a list and generate a random item from the list."
   ]
  },
  {
   "cell_type": "code",
   "execution_count": 44,
   "metadata": {},
   "outputs": [
    {
     "data": {
      "text/plain": [
       "'c'"
      ]
     },
     "execution_count": 44,
     "metadata": {},
     "output_type": "execute_result"
    }
   ],
   "source": [
    "random.choice([\"a\", \"b\", \"c\"])"
   ]
  }
 ],
 "metadata": {
  "colab": {
   "collapsed_sections": [
    "aYZt9mLwKc7m",
    "hui1fSk4Kc7t",
    "jLnCbok_Kc78",
    "atLXty0wKc8K",
    "ImY6hk26Kc8K",
    "L0zD88m-Kc8n",
    "lXhIQIiYKc85",
    "zynnxWjmKc9K",
    "9mwEkjXaKc9R",
    "Ujf2QdPAKc9j",
    "ROtTet7IKc9k",
    "CUkm3gBPKc9n",
    "_JsMn7QfKc9r",
    "_lwwdvqQKc9z",
    "-9KwSmmeKc96",
    "AIoTqzsmKc-H",
    "zaYkQ9ilKc-K",
    "CO6yeRkaKc-M",
    "3QR_VAoVKc-M"
   ],
   "name": "01_intro_python_numpy_pandas.ipynb",
   "private_outputs": true,
   "provenance": [],
   "version": "0.3.2"
  },
  "kernelspec": {
   "display_name": "Python 3 (ipykernel)",
   "language": "python",
   "name": "python3"
  },
  "language_info": {
   "codemirror_mode": {
    "name": "ipython",
    "version": 3
   },
   "file_extension": ".py",
   "mimetype": "text/x-python",
   "name": "python",
   "nbconvert_exporter": "python",
   "pygments_lexer": "ipython3",
   "version": "3.9.13"
  }
 },
 "nbformat": 4,
 "nbformat_minor": 1
}
