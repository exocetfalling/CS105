{
 "cells": [
  {
   "cell_type": "markdown",
   "metadata": {},
   "source": [
    "<div class=\"alert alert-block alert-info\">\n",
    "Singapore Management University<br>\n",
    "CS105 Statistical Thinking for Data Science\n",
    "</div>"
   ]
  },
  {
   "cell_type": "markdown",
   "metadata": {
    "colab_type": "text",
    "id": "zYBbWb-0Kc6H"
   },
   "source": [
    "## Lab 0: Introduction to Python (Exercises)"
   ]
  },
  {
   "cell_type": "markdown",
   "metadata": {},
   "source": [
    "### Q1: FizzBuzz"
   ]
  },
  {
   "cell_type": "markdown",
   "metadata": {},
   "source": [
    "Write a program to print the numbers from 1 to 100. But for multiples of three print “Fizz” instead of the number and for the multiples of five print “Buzz”. For numbers which are multiples of both three and five print “FizzBuzz”."
   ]
  },
  {
   "cell_type": "code",
   "execution_count": 2,
   "metadata": {},
   "outputs": [
    {
     "name": "stdout",
     "output_type": "stream",
     "text": [
      "Fizz\n",
      "\n",
      "Fizz\n",
      "\n",
      "Fizz\n",
      "\n",
      "Fizz\n",
      "\n",
      "Fizz\n",
      "\n",
      "Fizz\n",
      "\n",
      "Fizz\n",
      "\n",
      "Fizz\n",
      "\n",
      "Fizz\n",
      "\n",
      "Fizz\n",
      "\n",
      "Fizz\n",
      "\n",
      "Fizz\n",
      "\n",
      "Fizz\n",
      "\n",
      "Fizz\n",
      "\n",
      "Fizz\n",
      "\n",
      "Fizz\n",
      "\n",
      "Fizz\n",
      "\n",
      "Fizz\n",
      "\n",
      "Fizz\n",
      "\n",
      "Fizz\n",
      "\n",
      "Fizz\n",
      "\n",
      "Fizz\n",
      "\n",
      "Fizz\n",
      "\n",
      "Fizz\n",
      "\n",
      "Fizz\n",
      "\n",
      "Fizz\n",
      "\n",
      "Fizz\n",
      "\n",
      "Fizz\n",
      "\n",
      "Fizz\n",
      "\n",
      "Fizz\n",
      "\n",
      "Fizz\n",
      "\n",
      "Fizz\n",
      "\n",
      "Fizz\n",
      "\n"
     ]
    }
   ],
   "source": [
    "for n in range(1,101):\n",
    "    # complete your code below\n",
    "    if n % 3 == 0:\n",
    "        print(\"Fizz\\n\")\n",
    "    pass"
   ]
  },
  {
   "cell_type": "markdown",
   "metadata": {},
   "source": [
    "### Q2: Sum of Squares"
   ]
  },
  {
   "cell_type": "markdown",
   "metadata": {},
   "source": [
    "Write a function that takes a list of numbers as its parameter, and returns the sum of each number squared.  If the sum is greater than 99999, then return only the last 5 digits of the sum. The leading 0s in the return value is not required. For example, if the last 5 digits is 00010, it should just return 10."
   ]
  },
  {
   "cell_type": "code",
   "execution_count": 4,
   "metadata": {},
   "outputs": [
    {
     "name": "stdout",
     "output_type": "stream",
     "text": [
      "None\n",
      "None\n"
     ]
    }
   ],
   "source": [
    "def sum_of_squares(nums):\n",
    "    # complete your function\n",
    "    \n",
    "    pass\n",
    "    \n",
    "# test cases\n",
    "nums = [1, 1, 1]\n",
    "print(sum_of_squares(nums))\n",
    "\n",
    "nums = [107, 263, 345, 445, 54578]\n",
    "print(sum_of_squares(nums))"
   ]
  },
  {
   "cell_type": "markdown",
   "metadata": {},
   "source": [
    "### Q3: Winning Streaks"
   ]
  },
  {
   "cell_type": "markdown",
   "metadata": {},
   "source": [
    "You are given the status of a series of games for CS United, which can be \"w\", \"d\" or \"l\" representing win, draw or loss respectively. Write a function to determine the longest winning streaks for CS United."
   ]
  },
  {
   "cell_type": "code",
   "execution_count": 3,
   "metadata": {},
   "outputs": [
    {
     "name": "stdout",
     "output_type": "stream",
     "text": [
      "None\n",
      "None\n"
     ]
    }
   ],
   "source": [
    "def win_streaks(games):\n",
    "    # complete your function\n",
    "    \n",
    "    pass\n",
    "    \n",
    "    \n",
    "# test cases\n",
    "games = [\"w\", \"w\", \"w\", \"w\", \"w\"] \n",
    "print(win_streaks(games))\n",
    "\n",
    "games = [\"w\", \"l\", \"w\", \"w\", \"d\", \"w\", \"w\", \"w\"] \n",
    "print(win_streaks(games))"
   ]
  },
  {
   "cell_type": "markdown",
   "metadata": {},
   "source": [
    "### Q4: Generating Permutation\n",
    "\n",
    "A PIN is a sequence of 4 digits chosen from 0, 1, 2, …, 9, where each digit can only appear once in the PIN (i.e., repetition not allowed). Write a program to count the number of distinct PINs.\n",
    "\n",
    "_Hint: consider using nested for loops._"
   ]
  },
  {
   "cell_type": "code",
   "execution_count": 4,
   "metadata": {},
   "outputs": [],
   "source": [
    "# complete your code below\n"
   ]
  },
  {
   "cell_type": "markdown",
   "metadata": {},
   "source": [
    "### Q5: Coin Tossing"
   ]
  },
  {
   "cell_type": "markdown",
   "metadata": {},
   "source": [
    "You toss a fair coin three times. Write a simulation program to simulate the experiments for 10,000 times. What is the probability of getting at least one tail?"
   ]
  },
  {
   "cell_type": "code",
   "execution_count": 5,
   "metadata": {},
   "outputs": [],
   "source": [
    "import random\n",
    "\n",
    "# complete your code below\n"
   ]
  },
  {
   "cell_type": "markdown",
   "metadata": {},
   "source": [
    "### Q6: Dice Rolling"
   ]
  },
  {
   "cell_type": "markdown",
   "metadata": {},
   "source": [
    "You roll two fair 8-sided dice at once. Write a simulation program to simulate the experiments for 10,000 times. What is the probability that the difference is less than 2 or exactly 4?"
   ]
  },
  {
   "cell_type": "code",
   "execution_count": 6,
   "metadata": {},
   "outputs": [],
   "source": [
    "# you do not need to import random again if you have run the code of Q5\n",
    "\n",
    "# complete your code below\n"
   ]
  }
 ],
 "metadata": {
  "colab": {
   "collapsed_sections": [
    "aYZt9mLwKc7m",
    "hui1fSk4Kc7t",
    "jLnCbok_Kc78",
    "atLXty0wKc8K",
    "ImY6hk26Kc8K",
    "L0zD88m-Kc8n",
    "lXhIQIiYKc85",
    "zynnxWjmKc9K",
    "9mwEkjXaKc9R",
    "Ujf2QdPAKc9j",
    "ROtTet7IKc9k",
    "CUkm3gBPKc9n",
    "_JsMn7QfKc9r",
    "_lwwdvqQKc9z",
    "-9KwSmmeKc96",
    "AIoTqzsmKc-H",
    "zaYkQ9ilKc-K",
    "CO6yeRkaKc-M",
    "3QR_VAoVKc-M"
   ],
   "name": "01_intro_python_numpy_pandas.ipynb",
   "private_outputs": true,
   "provenance": [],
   "version": "0.3.2"
  },
  "kernelspec": {
   "display_name": "Python 3 (ipykernel)",
   "language": "python",
   "name": "python3"
  },
  "language_info": {
   "codemirror_mode": {
    "name": "ipython",
    "version": 3
   },
   "file_extension": ".py",
   "mimetype": "text/x-python",
   "name": "python",
   "nbconvert_exporter": "python",
   "pygments_lexer": "ipython3",
   "version": "3.11.4"
  }
 },
 "nbformat": 4,
 "nbformat_minor": 4
}
