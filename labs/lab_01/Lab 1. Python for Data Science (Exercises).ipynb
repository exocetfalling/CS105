{
 "cells": [
  {
   "cell_type": "markdown",
   "metadata": {},
   "source": [
    "<div class=\"alert alert-block alert-info\">\n",
    "Singapore Management University<br>\n",
    "CS105 Statistical Thinking for Data Science\n",
    "</div>"
   ]
  },
  {
   "cell_type": "markdown",
   "metadata": {
    "colab_type": "text",
    "id": "zYBbWb-0Kc6H"
   },
   "source": [
    "## Lab 1: Python for Data Science (Exercises)"
   ]
  },
  {
   "cell_type": "code",
   "execution_count": 1,
   "metadata": {},
   "outputs": [],
   "source": [
    "import numpy as np\n",
    "import pandas as pd"
   ]
  },
  {
   "cell_type": "markdown",
   "metadata": {},
   "source": [
    "### Q1: Weighted Average"
   ]
  },
  {
   "cell_type": "markdown",
   "metadata": {
    "colab_type": "text",
    "id": "UHeF-uTJKc9k"
   },
   "source": [
    "Write a function `weighted_ave` which takes in two NumPy arrays `values` and `weights`, and returns the weighted average. <br> \n",
    "\n",
    ">Example: <br>\n",
    ">\n",
    ">*values* = $[21, 55, 80]$ <br>\n",
    ">*weights* = $[10, 20, 70]$ <br>\n",
    ">*weighted average* = $\\frac{21 \\times 10 + 55 \\times 20 + 80 \\times 70}{10+20+70} = 69.1$\n",
    "\n",
    "_Hint: consider using the ``numpy.dot()`` function._"
   ]
  },
  {
   "cell_type": "code",
   "execution_count": 4,
   "metadata": {},
   "outputs": [
    {
     "data": {
      "text/plain": [
       "69.1"
      ]
     },
     "execution_count": 4,
     "metadata": {},
     "output_type": "execute_result"
    }
   ],
   "source": [
    "def weighted_average(weights, values):\n",
    "    weighted_ave = 0\n",
    "    # complete your function\n",
    "    numerator = 0\n",
    "    denominator = 0\n",
    "    for i in range(values.size):\n",
    "        numerator = numerator + values[i] * weights[i]\n",
    "        denominator = denominator + weights[i]\n",
    "    weighted_ave = numerator / denominator\n",
    "    \n",
    "    return weighted_ave\n",
    "\n",
    "\n",
    "#\n",
    "values = np.array([21, 55, 80])\n",
    "weights = np.array([10, 20, 70])\n",
    "weighted_average(weights, values)"
   ]
  },
  {
   "cell_type": "markdown",
   "metadata": {},
   "source": [
    "### Q2: Scaling"
   ]
  },
  {
   "cell_type": "markdown",
   "metadata": {
    "colab_type": "text",
    "id": "u9zR8ujYKc9l"
   },
   "source": [
    "Write a function taking a NumPy array *values* as its parameter, and scales them to $[0,1]$. <br>Concretely, for each value $x_i$, transform it to $\\frac{x_i - min}{max - min}$, where $max$, $min$ are respectively the maximum and minimum values of the array.\n",
    "\n",
    "_Hint: algebraic manipulations of NumPy arrays can be easily done at the array-level, applying to all elements as the following example demonstrates._"
   ]
  },
  {
   "cell_type": "code",
   "execution_count": 7,
   "metadata": {},
   "outputs": [
    {
     "name": "stdout",
     "output_type": "stream",
     "text": [
      "[0 1 2 3 4]\n",
      "[10 11 12 13 14]\n"
     ]
    }
   ],
   "source": [
    "# you do not need to import numpy again if you have run the code of Q7\n",
    "a = np.arange(5)\n",
    "print(a)\n",
    "a = a + 10   # this will add 10 to every element of the array\n",
    "print(a)"
   ]
  },
  {
   "cell_type": "code",
   "execution_count": 17,
   "metadata": {},
   "outputs": [
    {
     "name": "stdout",
     "output_type": "stream",
     "text": [
      "[2 7 5]\n",
      "[2 5 7]\n"
     ]
    }
   ],
   "source": [
    "def scaling(values):\n",
    "    # complete your function\n",
    "    values.sort()\n",
    "    values = values - 9\n",
    "    pass\n",
    "\n",
    "values = np.array([2,7,5])\n",
    "print(values)\n",
    "scaling(values)\n",
    "print(values)"
   ]
  },
  {
   "cell_type": "markdown",
   "metadata": {},
   "source": [
    "### Q3: Average Excluding Max/Min"
   ]
  },
  {
   "cell_type": "markdown",
   "metadata": {},
   "source": [
    "Write a function `average` that calculates the average score excluding the max and min. <br>\n",
    "Specifically your function takes in a DataFrame with two columns - judge and score. Return the average score, ignoring the highest score and the lowest score given by the judges"
   ]
  },
  {
   "cell_type": "code",
   "execution_count": null,
   "metadata": {},
   "outputs": [],
   "source": [
    "import pandas as pd\n",
    "\n",
    "def average(data):\n",
    "    # complete your function\n",
    "    \n",
    "    pass\n",
    "\n",
    "judges = [\"jusge_A\", \"judge_B\", \"judge_C\", \"judge_D\", \"judge_E\", \"judge_F\"]\n",
    "scores = [9.0, 4.0, 8.0, 9.8, 10.0, 7.8]\n",
    "data = pd.DataFrame({\"judge\":judges, \"score\":scores})\n",
    "\n",
    "average(data)"
   ]
  },
  {
   "cell_type": "markdown",
   "metadata": {},
   "source": [
    "### Q4: Binning"
   ]
  },
  {
   "cell_type": "markdown",
   "metadata": {},
   "source": [
    "Given a DataFrame with columns - name, length and width, you need to bin the data by their width and calculate the average length for each bin. For the purpose of binning, you only need to make sure the bins take integral values i.e. a width value in [2,3) is classified to have width 2, and likewise a width value in [4,5) is classified to have width 4   "
   ]
  },
  {
   "cell_type": "code",
   "execution_count": null,
   "metadata": {},
   "outputs": [],
   "source": [
    "def bin_average(data):\n",
    "    # complete your function\n",
    "\n",
    "    pass\n",
    "\n",
    "\n",
    "names = [\"a\", \"a\", \"b\", \"b\", \"c\", \"c\"]\n",
    "lengths = [5.2, 4.3, 3.2, 4.6, 3.2, 5.7]\n",
    "widths = [1.2, 1.3, 2.2, 2.6, 2.2, 1.7]    \n",
    "data = pd.DataFrame({\"name\":names, \"length\":lengths, \"width\":widths})\n",
    "\n",
    "bin_average(data)\n"
   ]
  },
  {
   "cell_type": "markdown",
   "metadata": {},
   "source": [
    "### Q5: Grade Column"
   ]
  },
  {
   "cell_type": "markdown",
   "metadata": {},
   "source": [
    "Given a DataFrame with columns - student and score, write a function `get_grade` that returns a new DataFrame with an additional column called *grade*. *Grade* is computed based on *score*: specifically score >= 70 is an 'A', score >= 60 but lower than 70 is a \"B\", score >= 50 but lower than 60 is a \"C\" and score lower than 50 is a \"F\"."
   ]
  },
  {
   "cell_type": "code",
   "execution_count": null,
   "metadata": {},
   "outputs": [],
   "source": [
    "def get_grade(data):\n",
    "    # complete your function\n",
    "\n",
    "    pass  \n",
    "\n",
    "\n",
    "\n",
    "students = [\"Alice\", \"Bob\", \"Charlie\", \"Daniel\"]\n",
    "scores = [60, 40, 77, 58]\n",
    "\n",
    "data = pd.DataFrame({\"student\":students, \"score\":scores})\n",
    "\n",
    "get_grade(data)"
   ]
  }
 ],
 "metadata": {
  "colab": {
   "collapsed_sections": [
    "aYZt9mLwKc7m",
    "hui1fSk4Kc7t",
    "jLnCbok_Kc78",
    "atLXty0wKc8K",
    "ImY6hk26Kc8K",
    "L0zD88m-Kc8n",
    "lXhIQIiYKc85",
    "zynnxWjmKc9K",
    "9mwEkjXaKc9R",
    "Ujf2QdPAKc9j",
    "ROtTet7IKc9k",
    "CUkm3gBPKc9n",
    "_JsMn7QfKc9r",
    "_lwwdvqQKc9z",
    "-9KwSmmeKc96",
    "AIoTqzsmKc-H",
    "zaYkQ9ilKc-K",
    "CO6yeRkaKc-M",
    "3QR_VAoVKc-M"
   ],
   "name": "01_intro_python_numpy_pandas.ipynb",
   "private_outputs": true,
   "provenance": [],
   "version": "0.3.2"
  },
  "kernelspec": {
   "display_name": "Python 3 (ipykernel)",
   "language": "python",
   "name": "python3"
  },
  "language_info": {
   "codemirror_mode": {
    "name": "ipython",
    "version": 3
   },
   "file_extension": ".py",
   "mimetype": "text/x-python",
   "name": "python",
   "nbconvert_exporter": "python",
   "pygments_lexer": "ipython3",
   "version": "3.11.4"
  }
 },
 "nbformat": 4,
 "nbformat_minor": 4
}
